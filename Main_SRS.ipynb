{
 "cells": [
  {
   "cell_type": "code",
   "execution_count": 5,
   "id": "92295405",
   "metadata": {},
   "outputs": [
    {
     "name": "stdout",
     "output_type": "stream",
     "text": [
      "Collecting chart_studio\n",
      "  Downloading chart_studio-1.1.0-py3-none-any.whl (64 kB)\n",
      "Requirement already satisfied: requests in c:\\users\\mr-phuc\\appdata\\local\\programs\\python\\python39\\lib\\site-packages (from chart_studio) (2.26.0)\n",
      "Collecting plotly\n",
      "  Downloading plotly-5.3.1-py2.py3-none-any.whl (23.9 MB)\n",
      "Requirement already satisfied: six in c:\\users\\mr-phuc\\appdata\\local\\programs\\python\\python39\\lib\\site-packages (from chart_studio) (1.16.0)\n",
      "Collecting retrying>=1.3.3\n",
      "  Downloading retrying-1.3.3.tar.gz (10 kB)\n",
      "Collecting tenacity>=6.2.0\n",
      "  Downloading tenacity-8.0.1-py3-none-any.whl (24 kB)\n",
      "Requirement already satisfied: urllib3<1.27,>=1.21.1 in c:\\users\\mr-phuc\\appdata\\local\\programs\\python\\python39\\lib\\site-packages (from requests->chart_studio) (1.26.7)\n",
      "Requirement already satisfied: certifi>=2017.4.17 in c:\\users\\mr-phuc\\appdata\\local\\programs\\python\\python39\\lib\\site-packages (from requests->chart_studio) (2021.10.8)\n",
      "Requirement already satisfied: idna<4,>=2.5 in c:\\users\\mr-phuc\\appdata\\local\\programs\\python\\python39\\lib\\site-packages (from requests->chart_studio) (3.3)\n",
      "Requirement already satisfied: charset-normalizer~=2.0.0 in c:\\users\\mr-phuc\\appdata\\local\\programs\\python\\python39\\lib\\site-packages (from requests->chart_studio) (2.0.7)\n",
      "Using legacy 'setup.py install' for retrying, since package 'wheel' is not installed.\n",
      "Installing collected packages: tenacity, retrying, plotly, chart-studio\n",
      "    Running setup.py install for retrying: started\n",
      "    Running setup.py install for retrying: finished with status 'done'\n",
      "Note: you may need to restart the kernel to use updated packages.\n"
     ]
    },
    {
     "name": "stderr",
     "output_type": "stream",
     "text": [
      "WARNING: You are using pip version 21.2.3; however, version 21.3 is available.\n",
      "You should consider upgrading via the 'C:\\Users\\Mr-Phuc\\AppData\\Local\\Programs\\Python\\Python39\\python.exe -m pip install --upgrade pip' command.\n"
     ]
    },
    {
     "name": "stdout",
     "output_type": "stream",
     "text": [
      "Successfully installed chart-studio-1.1.0 plotly-5.3.1 retrying-1.3.3 tenacity-8.0.1\n"
     ]
    }
   ],
   "source": [
    "# pip install chart_studio\n",
    "# pip install datapane"
   ]
  },
  {
   "cell_type": "code",
   "execution_count": 8,
   "id": "17f1c83c",
   "metadata": {},
   "outputs": [],
   "source": [
    "%matplotlib inline\n",
    "import pandas \n",
    "from sklearn.model_selection import train_test_split\n",
    "import numpy as np\n",
    "import time\n",
    "import joblib\n",
    "import Recommenders as Recommenders\n",
    "import Evaluation as Evaluation"
   ]
  },
  {
   "cell_type": "code",
   "execution_count": 14,
   "id": "aacf3e33",
   "metadata": {},
   "outputs": [],
   "source": [
    "#Read useris, songid, listen\n",
    "triplets_file = '10000.txt'\n",
    "song_metadata_file = 'song_data.csv'\n",
    "#Create dataframe for triplet file\n",
    "song_df1 = pd.read_table(triplets_file, header = None)\n",
    "song_df1.columns = ['user_id', 'song_id', 'listen_count']\n",
    "#Dataframe for metadata file\n",
    "song_df2 = pd.read_csv(song_metadata_file)\n",
    "\n",
    "#Merge 2 data file\n",
    "song_df = pd.merge(song_df1, song_df2.drop_duplicates(['song_id']),on=\"song_id\",how='left')"
   ]
  },
  {
   "cell_type": "code",
   "execution_count": 16,
   "id": "97cdbdec",
   "metadata": {},
   "outputs": [
    {
     "name": "stdout",
     "output_type": "stream",
     "text": [
      "Total number of elements: 2000000\n"
     ]
    }
   ],
   "source": [
    "song_df.head()\n",
    "#Check length of data\n",
    "print(\"Total number of elements:\", len(song_df))\n",
    "#Create subset of data\n",
    "song_df = song_df.head(10000)"
   ]
  },
  {
   "cell_type": "code",
   "execution_count": 17,
   "id": "cf5503a0",
   "metadata": {},
   "outputs": [
    {
     "name": "stderr",
     "output_type": "stream",
     "text": [
      "C:\\Users\\Mr-Phuc\\AppData\\Local\\Temp/ipykernel_5224/1591507727.py:2: SettingWithCopyWarning: \n",
      "A value is trying to be set on a copy of a slice from a DataFrame.\n",
      "Try using .loc[row_indexer,col_indexer] = value instead\n",
      "\n",
      "See the caveats in the documentation: https://pandas.pydata.org/pandas-docs/stable/user_guide/indexing.html#returning-a-view-versus-a-copy\n",
      "  song_df['song'] = song_df['title'].map(str)+\"-\"+song_df['artist_name']\n"
     ]
    }
   ],
   "source": [
    "#Merge song title and song artist into one column\n",
    "song_df['song'] = song_df['title'].map(str)+\"-\"+song_df['artist_name']"
   ]
  },
  {
   "cell_type": "code",
   "execution_count": 19,
   "id": "012a9a73",
   "metadata": {},
   "outputs": [
    {
     "data": {
      "text/plain": [
       "365"
      ]
     },
     "execution_count": 19,
     "metadata": {},
     "output_type": "execute_result"
    }
   ],
   "source": [
    "#Number of unique users\n",
    "users = song_df['user_id'].unique()\n",
    "len(users)"
   ]
  },
  {
   "cell_type": "code",
   "execution_count": 20,
   "id": "1d490b62",
   "metadata": {},
   "outputs": [
    {
     "data": {
      "text/plain": [
       "5151"
      ]
     },
     "execution_count": 20,
     "metadata": {},
     "output_type": "execute_result"
    }
   ],
   "source": [
    "#Number of unique songs:\n",
    "songs = song_df['song'].unique()\n",
    "len(songs)"
   ]
  },
  {
   "cell_type": "code",
   "execution_count": 21,
   "id": "39b53e25",
   "metadata": {
    "scrolled": true
   },
   "outputs": [
    {
     "name": "stdout",
     "output_type": "stream",
     "text": [
      "                                       user_id             song_id  \\\n",
      "7389  94d5bdc37683950e90c56c9b32721edb5d347600  SOXNZOW12AB017F756   \n",
      "9275  1012ecfd277b96487ed8357d02fa8326b13696a5  SOXHYVQ12AB0187949   \n",
      "2995  15415fa2745b344bce958967c346f2a89f792f63  SOOSZAZ12A6D4FADF8   \n",
      "5316  ffadf9297a99945c0513cd87939d91d8b602936b  SOWDJEJ12A8C1339FE   \n",
      "356   5a905f000fc1ff3df7ca807d57edb608863db05d  SOAMPRJ12A8AE45F38   \n",
      "\n",
      "      listen_count                 title  \\\n",
      "7389             2      Half Of My Heart   \n",
      "9275             1  The Beautiful People   \n",
      "2995             1     Sanctify Yourself   \n",
      "5316             4     Heart Cooks Brain   \n",
      "356             20                 Rorol   \n",
      "\n",
      "                                                release      artist_name  \\\n",
      "7389                                     Battle Studies       John Mayer   \n",
      "9275             Antichrist Superstar (Ecopac Explicit)   Marilyn Manson   \n",
      "2995                             Glittering Prize 81/92     Simple Minds   \n",
      "5316  Everything Is Nice: The Matador Records 10th A...     Modest Mouse   \n",
      "356                               Identification Parade  Octopus Project   \n",
      "\n",
      "      year                                 song  \n",
      "7389     0          Half Of My Heart-John Mayer  \n",
      "9275     0  The Beautiful People-Marilyn Manson  \n",
      "2995  1985       Sanctify Yourself-Simple Minds  \n",
      "5316  1997       Heart Cooks Brain-Modest Mouse  \n",
      "356   2002                Rorol-Octopus Project  \n"
     ]
    }
   ],
   "source": [
    "#Split data to train data and test data\n",
    "train_data , test_data = train_test_split(song_df,test_size = 0.20, random_state = 0)\n",
    "print(train_data.head(5))"
   ]
  },
  {
   "cell_type": "code",
   "execution_count": 25,
   "id": "c891fe64",
   "metadata": {},
   "outputs": [],
   "source": [
    "# Simple popularity based recommender\n",
    "pm = Recommenders.popularity_recommender()\n",
    "pm.create(train_data,'user_id','song')"
   ]
  },
  {
   "cell_type": "code",
   "execution_count": 27,
   "id": "fda98c75",
   "metadata": {},
   "outputs": [
    {
     "data": {
      "text/html": [
       "<div>\n",
       "<style scoped>\n",
       "    .dataframe tbody tr th:only-of-type {\n",
       "        vertical-align: middle;\n",
       "    }\n",
       "\n",
       "    .dataframe tbody tr th {\n",
       "        vertical-align: top;\n",
       "    }\n",
       "\n",
       "    .dataframe thead th {\n",
       "        text-align: right;\n",
       "    }\n",
       "</style>\n",
       "<table border=\"1\" class=\"dataframe\">\n",
       "  <thead>\n",
       "    <tr style=\"text-align: right;\">\n",
       "      <th></th>\n",
       "      <th>user_id</th>\n",
       "      <th>song</th>\n",
       "      <th>score</th>\n",
       "      <th>Rank</th>\n",
       "    </tr>\n",
       "  </thead>\n",
       "  <tbody>\n",
       "    <tr>\n",
       "      <th>3194</th>\n",
       "      <td>90dbbbb47979f46ccdbc413d6b6e31cdb55aa58f</td>\n",
       "      <td>Sehr kosmisch-Harmonia</td>\n",
       "      <td>37</td>\n",
       "      <td>1.0</td>\n",
       "    </tr>\n",
       "    <tr>\n",
       "      <th>4083</th>\n",
       "      <td>90dbbbb47979f46ccdbc413d6b6e31cdb55aa58f</td>\n",
       "      <td>Undo-Björk</td>\n",
       "      <td>27</td>\n",
       "      <td>2.0</td>\n",
       "    </tr>\n",
       "    <tr>\n",
       "      <th>931</th>\n",
       "      <td>90dbbbb47979f46ccdbc413d6b6e31cdb55aa58f</td>\n",
       "      <td>Dog Days Are Over (Radio Edit)-Florence + The ...</td>\n",
       "      <td>24</td>\n",
       "      <td>3.0</td>\n",
       "    </tr>\n",
       "    <tr>\n",
       "      <th>4443</th>\n",
       "      <td>90dbbbb47979f46ccdbc413d6b6e31cdb55aa58f</td>\n",
       "      <td>You're The One-Dwight Yoakam</td>\n",
       "      <td>24</td>\n",
       "      <td>4.0</td>\n",
       "    </tr>\n",
       "    <tr>\n",
       "      <th>3034</th>\n",
       "      <td>90dbbbb47979f46ccdbc413d6b6e31cdb55aa58f</td>\n",
       "      <td>Revelry-Kings Of Leon</td>\n",
       "      <td>21</td>\n",
       "      <td>5.0</td>\n",
       "    </tr>\n",
       "    <tr>\n",
       "      <th>3189</th>\n",
       "      <td>90dbbbb47979f46ccdbc413d6b6e31cdb55aa58f</td>\n",
       "      <td>Secrets-OneRepublic</td>\n",
       "      <td>21</td>\n",
       "      <td>6.0</td>\n",
       "    </tr>\n",
       "    <tr>\n",
       "      <th>4112</th>\n",
       "      <td>90dbbbb47979f46ccdbc413d6b6e31cdb55aa58f</td>\n",
       "      <td>Use Somebody-Kings Of Leon</td>\n",
       "      <td>21</td>\n",
       "      <td>7.0</td>\n",
       "    </tr>\n",
       "    <tr>\n",
       "      <th>1207</th>\n",
       "      <td>90dbbbb47979f46ccdbc413d6b6e31cdb55aa58f</td>\n",
       "      <td>Fireflies-Charttraxx Karaoke</td>\n",
       "      <td>20</td>\n",
       "      <td>8.0</td>\n",
       "    </tr>\n",
       "    <tr>\n",
       "      <th>1577</th>\n",
       "      <td>90dbbbb47979f46ccdbc413d6b6e31cdb55aa58f</td>\n",
       "      <td>Hey_ Soul Sister-Train</td>\n",
       "      <td>19</td>\n",
       "      <td>9.0</td>\n",
       "    </tr>\n",
       "    <tr>\n",
       "      <th>1626</th>\n",
       "      <td>90dbbbb47979f46ccdbc413d6b6e31cdb55aa58f</td>\n",
       "      <td>Horn Concerto No. 4 in E flat K495: II. Romanc...</td>\n",
       "      <td>19</td>\n",
       "      <td>10.0</td>\n",
       "    </tr>\n",
       "  </tbody>\n",
       "</table>\n",
       "</div>"
      ],
      "text/plain": [
       "                                       user_id  \\\n",
       "3194  90dbbbb47979f46ccdbc413d6b6e31cdb55aa58f   \n",
       "4083  90dbbbb47979f46ccdbc413d6b6e31cdb55aa58f   \n",
       "931   90dbbbb47979f46ccdbc413d6b6e31cdb55aa58f   \n",
       "4443  90dbbbb47979f46ccdbc413d6b6e31cdb55aa58f   \n",
       "3034  90dbbbb47979f46ccdbc413d6b6e31cdb55aa58f   \n",
       "3189  90dbbbb47979f46ccdbc413d6b6e31cdb55aa58f   \n",
       "4112  90dbbbb47979f46ccdbc413d6b6e31cdb55aa58f   \n",
       "1207  90dbbbb47979f46ccdbc413d6b6e31cdb55aa58f   \n",
       "1577  90dbbbb47979f46ccdbc413d6b6e31cdb55aa58f   \n",
       "1626  90dbbbb47979f46ccdbc413d6b6e31cdb55aa58f   \n",
       "\n",
       "                                                   song  score  Rank  \n",
       "3194                             Sehr kosmisch-Harmonia     37   1.0  \n",
       "4083                                         Undo-Björk     27   2.0  \n",
       "931   Dog Days Are Over (Radio Edit)-Florence + The ...     24   3.0  \n",
       "4443                       You're The One-Dwight Yoakam     24   4.0  \n",
       "3034                              Revelry-Kings Of Leon     21   5.0  \n",
       "3189                                Secrets-OneRepublic     21   6.0  \n",
       "4112                         Use Somebody-Kings Of Leon     21   7.0  \n",
       "1207                       Fireflies-Charttraxx Karaoke     20   8.0  \n",
       "1577                             Hey_ Soul Sister-Train     19   9.0  \n",
       "1626  Horn Concerto No. 4 in E flat K495: II. Romanc...     19  10.0  "
      ]
     },
     "execution_count": 27,
     "metadata": {},
     "output_type": "execute_result"
    }
   ],
   "source": [
    "# Using recommender to make some recommendation\n",
    "user_id = users[35]\n",
    "pm.recommend(user_id)"
   ]
  },
  {
   "cell_type": "code",
   "execution_count": 28,
   "id": "0467661d",
   "metadata": {},
   "outputs": [],
   "source": [
    "is_model = Recommenders.item_similarity_recommender()\n",
    "is_model.create(train_data,'user_id','song')"
   ]
  },
  {
   "cell_type": "code",
   "execution_count": 29,
   "id": "508c3d7d",
   "metadata": {},
   "outputs": [
    {
     "name": "stdout",
     "output_type": "stream",
     "text": [
      "Users history music data:\n",
      " ['Unite (2009 Digital Remaster)-Beastie Boys', 'Long Black Veil-DAVE MATTHEWS BAND', 'Kryptonite-3 Doors Down', 'Fortunate Son-Creedence Clearwater Revival', 'Long As I Can See The Light-Creedence Clearwater Revival', 'Human After All-Daft Punk', 'Have You Ever Seen The Rain-Creedence Clearwater Revival', 'The Prime Time Of Your Life-Daft Punk', 'Gotas De Agua Dulce-Juanes', \"Paradise City-Guns N' Roses\", 'New Divide (Album Version)-Linkin Park', 'Born On The Bayou-Creedence Clearwater Revival', 'Down On The Corner-Creedence Clearwater Revival', 'Gloomy-Creedence Clearwater Revival']\n",
      "Recommendations for User id 90dbbbb47979f46ccdbc413d6b6e31cdb55aa58f :\n",
      "No. of unique songs for the user: 14\n",
      "no. of unique songs in the training set: 4483\n",
      "Non zero values in cooccurence_matrix :2088\n"
     ]
    },
    {
     "data": {
      "text/html": [
       "<div>\n",
       "<style scoped>\n",
       "    .dataframe tbody tr th:only-of-type {\n",
       "        vertical-align: middle;\n",
       "    }\n",
       "\n",
       "    .dataframe tbody tr th {\n",
       "        vertical-align: top;\n",
       "    }\n",
       "\n",
       "    .dataframe thead th {\n",
       "        text-align: right;\n",
       "    }\n",
       "</style>\n",
       "<table border=\"1\" class=\"dataframe\">\n",
       "  <thead>\n",
       "    <tr style=\"text-align: right;\">\n",
       "      <th></th>\n",
       "      <th>user_id</th>\n",
       "      <th>song</th>\n",
       "      <th>score</th>\n",
       "      <th>rank</th>\n",
       "    </tr>\n",
       "  </thead>\n",
       "  <tbody>\n",
       "    <tr>\n",
       "      <th>0</th>\n",
       "      <td>90dbbbb47979f46ccdbc413d6b6e31cdb55aa58f</td>\n",
       "      <td>Television Rules The Nation-Daft Punk</td>\n",
       "      <td>0.071429</td>\n",
       "      <td>1</td>\n",
       "    </tr>\n",
       "    <tr>\n",
       "      <th>1</th>\n",
       "      <td>90dbbbb47979f46ccdbc413d6b6e31cdb55aa58f</td>\n",
       "      <td>Voyager-Daft Punk</td>\n",
       "      <td>0.071429</td>\n",
       "      <td>2</td>\n",
       "    </tr>\n",
       "    <tr>\n",
       "      <th>2</th>\n",
       "      <td>90dbbbb47979f46ccdbc413d6b6e31cdb55aa58f</td>\n",
       "      <td>Aerodynamic-Daft Punk</td>\n",
       "      <td>0.071429</td>\n",
       "      <td>3</td>\n",
       "    </tr>\n",
       "    <tr>\n",
       "      <th>3</th>\n",
       "      <td>90dbbbb47979f46ccdbc413d6b6e31cdb55aa58f</td>\n",
       "      <td>Alive-Daft Punk</td>\n",
       "      <td>0.071429</td>\n",
       "      <td>4</td>\n",
       "    </tr>\n",
       "    <tr>\n",
       "      <th>4</th>\n",
       "      <td>90dbbbb47979f46ccdbc413d6b6e31cdb55aa58f</td>\n",
       "      <td>Emotion-Daft Punk</td>\n",
       "      <td>0.071429</td>\n",
       "      <td>5</td>\n",
       "    </tr>\n",
       "    <tr>\n",
       "      <th>5</th>\n",
       "      <td>90dbbbb47979f46ccdbc413d6b6e31cdb55aa58f</td>\n",
       "      <td>Short Circuit-Daft Punk</td>\n",
       "      <td>0.071429</td>\n",
       "      <td>6</td>\n",
       "    </tr>\n",
       "    <tr>\n",
       "      <th>6</th>\n",
       "      <td>90dbbbb47979f46ccdbc413d6b6e31cdb55aa58f</td>\n",
       "      <td>Meanwhile_ Rick James...-Cake</td>\n",
       "      <td>0.059524</td>\n",
       "      <td>7</td>\n",
       "    </tr>\n",
       "    <tr>\n",
       "      <th>7</th>\n",
       "      <td>90dbbbb47979f46ccdbc413d6b6e31cdb55aa58f</td>\n",
       "      <td>Too Long-Daft Punk</td>\n",
       "      <td>0.059524</td>\n",
       "      <td>8</td>\n",
       "    </tr>\n",
       "    <tr>\n",
       "      <th>8</th>\n",
       "      <td>90dbbbb47979f46ccdbc413d6b6e31cdb55aa58f</td>\n",
       "      <td>Superhereos-Daft Punk</td>\n",
       "      <td>0.059524</td>\n",
       "      <td>9</td>\n",
       "    </tr>\n",
       "    <tr>\n",
       "      <th>9</th>\n",
       "      <td>90dbbbb47979f46ccdbc413d6b6e31cdb55aa58f</td>\n",
       "      <td>Robot Rock-Daft Punk</td>\n",
       "      <td>0.059524</td>\n",
       "      <td>10</td>\n",
       "    </tr>\n",
       "  </tbody>\n",
       "</table>\n",
       "</div>"
      ],
      "text/plain": [
       "                                    user_id  \\\n",
       "0  90dbbbb47979f46ccdbc413d6b6e31cdb55aa58f   \n",
       "1  90dbbbb47979f46ccdbc413d6b6e31cdb55aa58f   \n",
       "2  90dbbbb47979f46ccdbc413d6b6e31cdb55aa58f   \n",
       "3  90dbbbb47979f46ccdbc413d6b6e31cdb55aa58f   \n",
       "4  90dbbbb47979f46ccdbc413d6b6e31cdb55aa58f   \n",
       "5  90dbbbb47979f46ccdbc413d6b6e31cdb55aa58f   \n",
       "6  90dbbbb47979f46ccdbc413d6b6e31cdb55aa58f   \n",
       "7  90dbbbb47979f46ccdbc413d6b6e31cdb55aa58f   \n",
       "8  90dbbbb47979f46ccdbc413d6b6e31cdb55aa58f   \n",
       "9  90dbbbb47979f46ccdbc413d6b6e31cdb55aa58f   \n",
       "\n",
       "                                    song     score rank  \n",
       "0  Television Rules The Nation-Daft Punk  0.071429    1  \n",
       "1                      Voyager-Daft Punk  0.071429    2  \n",
       "2                  Aerodynamic-Daft Punk  0.071429    3  \n",
       "3                        Alive-Daft Punk  0.071429    4  \n",
       "4                      Emotion-Daft Punk  0.071429    5  \n",
       "5                Short Circuit-Daft Punk  0.071429    6  \n",
       "6          Meanwhile_ Rick James...-Cake  0.059524    7  \n",
       "7                     Too Long-Daft Punk  0.059524    8  \n",
       "8                  Superhereos-Daft Punk  0.059524    9  \n",
       "9                   Robot Rock-Daft Punk  0.059524   10  "
      ]
     },
     "execution_count": 29,
     "metadata": {},
     "output_type": "execute_result"
    }
   ],
   "source": [
    "user_item = is_model.get_user_items(user_id)\n",
    "print(\"Users history music data:\\n\",user_item)\n",
    "print(\"Recommendations for User id\",user_id,\":\")\n",
    "is_model.recommend(user_id)"
   ]
  },
  {
   "cell_type": "code",
   "execution_count": null,
   "id": "88dbd1ff",
   "metadata": {},
   "outputs": [],
   "source": []
  }
 ],
 "metadata": {
  "kernelspec": {
   "display_name": "Python 3 (ipykernel)",
   "language": "python",
   "name": "python3"
  },
  "language_info": {
   "codemirror_mode": {
    "name": "ipython",
    "version": 3
   },
   "file_extension": ".py",
   "mimetype": "text/x-python",
   "name": "python",
   "nbconvert_exporter": "python",
   "pygments_lexer": "ipython3",
   "version": "3.9.7"
  }
 },
 "nbformat": 4,
 "nbformat_minor": 5
}
